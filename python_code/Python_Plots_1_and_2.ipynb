{
 "cells": [
  {
   "cell_type": "markdown",
   "id": "f58d3f6b",
   "metadata": {},
   "source": [
    "# <center>Python Data Visualization<center>\n",
    "## <center>First Sub-Goal: Employees Performance & Productivity Analysis<center>\n",
    "______________________________________________________________________________\n",
    "**<center>Name:<center>**\n",
    "## <center>Ali Mir<center>\n",
    "\n",
    "**<center>GitHub:<center>** **<center>https://github.com/Alii-Mir<center>**\n",
    "______________________________________________________________________________"
   ]
  },
  {
   "cell_type": "code",
   "execution_count": 1,
   "id": "6293c58d",
   "metadata": {},
   "outputs": [],
   "source": [
    "import pandas as pd\n",
    "import numpy as np\n",
    "import matplotlib.pyplot as plt\n",
    "import seaborn as sns\n",
    "import ipywidgets as widgets\n",
    "from ipywidgets import interact, interact_manual\n",
    "import matplotlib.gridspec as gridspec\n",
    "import matplotlib.ticker as ticker\n",
    "from matplotlib.patches import Circle"
   ]
  },
  {
   "cell_type": "code",
   "execution_count": 2,
   "id": "bbc5977b",
   "metadata": {},
   "outputs": [],
   "source": [
    "df_calend = pd.read_csv('../data/calendar.csv')\n",
    "df_employ = pd.read_csv('../data/employees.csv')\n",
    "df_land = pd.read_csv('../data/landscaping.csv')\n"
   ]
  },
  {
   "cell_type": "markdown",
   "id": "8eb9e289",
   "metadata": {},
   "source": [
    "---"
   ]
  },
  {
   "cell_type": "markdown",
   "id": "05836798",
   "metadata": {},
   "source": [
    "## Data Processing"
   ]
  },
  {
   "cell_type": "code",
   "execution_count": 3,
   "id": "a87318df",
   "metadata": {
    "scrolled": false
   },
   "outputs": [
    {
     "data": {
      "text/html": [
       "<div>\n",
       "<style scoped>\n",
       "    .dataframe tbody tr th:only-of-type {\n",
       "        vertical-align: middle;\n",
       "    }\n",
       "\n",
       "    .dataframe tbody tr th {\n",
       "        vertical-align: top;\n",
       "    }\n",
       "\n",
       "    .dataframe thead th {\n",
       "        text-align: right;\n",
       "    }\n",
       "</style>\n",
       "<table border=\"1\" class=\"dataframe\">\n",
       "  <thead>\n",
       "    <tr style=\"text-align: right;\">\n",
       "      <th></th>\n",
       "      <th>job_id</th>\n",
       "      <th>job_type</th>\n",
       "      <th>invoice_amount</th>\n",
       "      <th>material_costs</th>\n",
       "      <th>request_date</th>\n",
       "      <th>start_date</th>\n",
       "      <th>completion_date</th>\n",
       "      <th>customer_id</th>\n",
       "      <th>customer_type</th>\n",
       "      <th>customer_postal_code</th>\n",
       "      <th>customer_satisfaction</th>\n",
       "      <th>employees</th>\n",
       "      <th>hourly_wages</th>\n",
       "      <th>wt_satisfaction_mean</th>\n",
       "    </tr>\n",
       "  </thead>\n",
       "  <tbody>\n",
       "    <tr>\n",
       "      <th>0</th>\n",
       "      <td>j_185274</td>\n",
       "      <td>basic_lawncare</td>\n",
       "      <td>240.0</td>\n",
       "      <td>76</td>\n",
       "      <td>2022-03-01</td>\n",
       "      <td>2022-04-01</td>\n",
       "      <td>2022-04-02</td>\n",
       "      <td>c_3ac965</td>\n",
       "      <td>residential</td>\n",
       "      <td>A1H</td>\n",
       "      <td>2</td>\n",
       "      <td>[e_7ace5d]</td>\n",
       "      <td>[18.0]</td>\n",
       "      <td>5.3</td>\n",
       "    </tr>\n",
       "    <tr>\n",
       "      <th>1</th>\n",
       "      <td>j_8bd7f7</td>\n",
       "      <td>basic_lawncare</td>\n",
       "      <td>276.0</td>\n",
       "      <td>68</td>\n",
       "      <td>2022-03-01</td>\n",
       "      <td>2022-04-26</td>\n",
       "      <td>2022-04-26</td>\n",
       "      <td>c_3ac965</td>\n",
       "      <td>residential</td>\n",
       "      <td>A1H</td>\n",
       "      <td>7</td>\n",
       "      <td>[e_97c2f5]</td>\n",
       "      <td>[18.0]</td>\n",
       "      <td>5.1</td>\n",
       "    </tr>\n",
       "  </tbody>\n",
       "</table>\n",
       "</div>"
      ],
      "text/plain": [
       "     job_id        job_type  invoice_amount  material_costs request_date  \\\n",
       "0  j_185274  basic_lawncare           240.0              76   2022-03-01   \n",
       "1  j_8bd7f7  basic_lawncare           276.0              68   2022-03-01   \n",
       "\n",
       "   start_date completion_date customer_id customer_type customer_postal_code  \\\n",
       "0  2022-04-01      2022-04-02    c_3ac965   residential                  A1H   \n",
       "1  2022-04-26      2022-04-26    c_3ac965   residential                  A1H   \n",
       "\n",
       "   customer_satisfaction   employees hourly_wages wt_satisfaction_mean  \n",
       "0                      2  [e_7ace5d]       [18.0]                  5.3  \n",
       "1                      7  [e_97c2f5]       [18.0]                  5.1  "
      ]
     },
     "execution_count": 3,
     "metadata": {},
     "output_type": "execute_result"
    }
   ],
   "source": [
    "j_ids = df_land[\"job_id\"].tolist()\n",
    "df_land_2 = df_land.copy()\n",
    "df_land_2['employees'] = pd.Series(dtype='object')\n",
    "df_land_2['hourly_wages'] = pd.Series(dtype='object')\n",
    "df_land_2['wt_satisfaction_mean'] = pd.Series(dtype='object')\n",
    "\n",
    "for i, j in enumerate(j_ids):\n",
    "    df_calend_sub = df_calend.loc[:, (df_calend == j).any()]\n",
    "    j_employees = df_calend_sub.columns.tolist()\n",
    "    \n",
    "    df_employ_sub = df_employ.query('employee_id in @j_employees')\n",
    "    wages = df_employ_sub[\"hourly_wage\"].tolist()\n",
    "\n",
    "    df_land_2.at[i, 'employees'] = j_employees\n",
    "    df_land_2.at[i, 'hourly_wages'] = wages\n",
    "    \n",
    "    df_calend_map = df_calend_sub.apply(lambda x: x.map(df_land_2.set_index('job_id')['customer_satisfaction']))\n",
    "    means=[]; weights=[]\n",
    "    columns=df_calend_map.columns.tolist()\n",
    "    col_nums=len(df_calend_map.columns)\n",
    "    for c in range(0, col_nums):\n",
    "        # each employee\n",
    "        df=df_calend_map.iloc[:,c].dropna()\n",
    "        mean=df.mean() \n",
    "        means.append(mean)\n",
    "        weight=df.shape[0]\n",
    "        weights.append(weight)\n",
    "    w_avg=sum(np.array(weights)*np.array(means))/sum(weights)\n",
    "    Mean=round(w_avg, 2)\n",
    "    df_land_2.at[i, 'wt_satisfaction_mean'] = Mean\n",
    "\n",
    "df_land_2.head(2)"
   ]
  },
  {
   "cell_type": "markdown",
   "id": "b6d165cf",
   "metadata": {},
   "source": [
    "---"
   ]
  },
  {
   "cell_type": "markdown",
   "id": "202261e3",
   "metadata": {},
   "source": [
    "## Visualization1: Interactive, Explanatory, Somewhat Exploratory, Derived Data"
   ]
  },
  {
   "cell_type": "markdown",
   "id": "54c5afdb",
   "metadata": {},
   "source": [
    "Note: The scond axis which is User Guide was tried to be separate and defined outside of function; but as it was attached to the same fig, it was too hard to be defined outside. Overal, the code has good speed."
   ]
  },
  {
   "cell_type": "code",
   "execution_count": 4,
   "id": "3783dcad",
   "metadata": {},
   "outputs": [
    {
     "data": {
      "application/vnd.jupyter.widget-view+json": {
       "model_id": "80e8dc642aee4f3290ea7945c2893fd3",
       "version_major": 2,
       "version_minor": 0
      },
      "text/plain": [
       "interactive(children=(Dropdown(description='Job Type:', options=('All', 'Basic Lawncare', 'Garden Landscaping'…"
      ]
     },
     "metadata": {},
     "output_type": "display_data"
    }
   ],
   "source": [
    "actual_j_names = ['All'] + df_land_2[\"job_type\"].unique().tolist()\n",
    "fancy_names = [name.replace('_', ' ').title() for name in actual_j_names]\n",
    "name_dict = dict(zip(fancy_names, actual_j_names))\n",
    "#----------------------------------------------------------------------------------------------\n",
    "@interact(j_type = widgets.Dropdown(options=fancy_names, value='All', description=\"Job Type:\"))\n",
    "def f3(j_type):\n",
    "    \n",
    "    j_legend = j_type\n",
    "    j_type = name_dict[j_type]\n",
    "    \n",
    "    if j_type == \"All\":\n",
    "        df_f3 = df_land_2\n",
    "    else:\n",
    "        df_f3 = df_land_2[df_land_2.job_type == j_type]\n",
    "    #------------------------------------------------------------------------\n",
    "    fig = plt.figure(figsize=(20, 10), dpi=200)\n",
    "    gs = gridspec.GridSpec(1, 2, width_ratios=[2.5, 1])\n",
    "\n",
    "    ax1 = plt.subplot(gs[0])\n",
    "    ax2 = plt.subplot(gs[1])\n",
    "    \n",
    "    # ax1.clear()\n",
    "    #------------------------------------------------------------------------\n",
    "    df_violin = df_f3.astype({'customer_satisfaction':'str', 'wt_satisfaction_mean':'float64'})\n",
    "    order = ['1', '2', '3', '4', '5', '6', '7', '8', '9', '10']\n",
    "    df_means=df_f3.groupby([\"customer_satisfaction\"])[\"wt_satisfaction_mean\"].mean().reset_index()\n",
    "    #------------------------------------------------------------------------\n",
    "    # plot your violin plot on ax1\n",
    "    sns.violinplot(x='wt_satisfaction_mean', y='customer_satisfaction', data=df_violin, ax=ax1, \\\n",
    "               order=order, inner=\"stick\", scale='count', linewidth=0.8)\n",
    "    \n",
    "    # plot your mean satisfaction rates on ax1\n",
    "    X=df_means.wt_satisfaction_mean; Y=df_means.customer_satisfaction\n",
    "    \n",
    "    sns.scatterplot(x=X, y=Y-1, color='snow',\\\n",
    "                markers=True, marker=\"o\", edgecolor='black', linewidth=1, s=50, ax=ax1)\n",
    "\n",
    "    # create a marker artist\n",
    "    marker = plt.Line2D([0,0],[0,0],color='w',markerfacecolor='snow', marker='o',markersize=10, markeredgecolor='black')\n",
    "    # add the marker to the legend\n",
    "    legend = ax1.legend([marker], [': Mean of Distribution Data'],loc='upper left', framealpha=0, handletextpad=0.1)\n",
    "    #------------------------------------------------------------------------\n",
    "    # customize ax1\n",
    "    ax1.set(xlim = (4.5, 8.5))\n",
    "    ax1.set_xlabel('Weighted Average Satisfaction Score by Job ID', labelpad=15, fontsize=10,) #Job Calculated Mean Satisfaction\n",
    "    # pad\n",
    "    ax1.set_ylabel('Customer Satisfaction Class', labelpad=10, fontsize=10,)\n",
    "    ax1.tick_params(axis='y', pad=50)\n",
    "    ax1.invert_yaxis()\n",
    "    ax1.tick_params(axis='y', which='both', length=0)\n",
    "    #------------------------------------------------------------------------\n",
    "    # Define the positions of the annotations and text boxes\n",
    "    pos0 = (0.5, 0.95); pos1 = (0.5, 0.9); pos2 = (0.5, 0.83); pos3 = (0.5, 0.75)\n",
    "    pos4 = (0.5, 0.67); pos5 = (0.5, 0.58); pos6 = (0.5, 0.48); pos7 = (0.5, 0.38)\n",
    "    pos8 = (0.5, 0.28); pos9 = (0.5, 0.18); pos10 = (0.5, 0.08)\n",
    "    \n",
    "    # Add the annotations and text boxes to the axis\n",
    "    ax2.annotate(\"\", xy=(pos1[0],pos1[1]-0.02), xytext=(pos2[0],pos2[1]+0.01), arrowprops=dict(arrowstyle=\"<-\", lw=2))\n",
    "    ax2.annotate(\"\", xy=(pos2[0],pos2[1]-0.02), xytext=(pos3[0],pos3[1]+0.01), arrowprops=dict(arrowstyle=\"<-\", lw=2))\n",
    "    ax2.annotate(\"\", xy=(pos3[0],pos3[1]-0.02), xytext=(pos4[0],pos4[1]+0.01), arrowprops=dict(arrowstyle=\"<-\", lw=2))\n",
    "    ax2.annotate(\"\", xy=(pos4[0],pos4[1]-0.02), xytext=(pos5[0],pos5[1]+0.02), arrowprops=dict(arrowstyle=\"<-\", lw=2))\n",
    "    ax2.annotate(\"\", xy=(pos5[0],pos5[1]-0.02), xytext=(pos6[0],pos6[1]+0.02), arrowprops=dict(arrowstyle=\"<-\", lw=2))\n",
    "    ax2.annotate(\"\", xy=(pos6[0],pos6[1]-0.02), xytext=(pos7[0],pos7[1]+0.02), arrowprops=dict(arrowstyle=\"<-\", lw=2))\n",
    "    ax2.annotate(\"\", xy=(pos7[0],pos7[1]-0.02), xytext=(pos8[0],pos8[1]+0.02), arrowprops=dict(arrowstyle=\"<-\", lw=2))\n",
    "    ax2.annotate(\"\", xy=(pos8[0],pos8[1]-0.02), xytext=(pos9[0],pos9[1]+0.02), arrowprops=dict(arrowstyle=\"<-\", lw=2))\n",
    "    ax2.annotate(\"\", xy=(pos9[0],pos9[1]-0.02), xytext=(pos10[0],pos10[1]+0.02), arrowprops=dict(arrowstyle=\"<-\", lw=2))\n",
    "\n",
    "    ax2.text(*pos0, r\"$\\bf{User~Guide~(Data~Processing~Break~Down):}$\", fontsize=10, ha=\"center\", va=\"center\") #ha='center', va='center'\n",
    "    ax2.text(*pos1, \"Select either a specific job type or all jobs from drop-down menu\", fontsize=10, ha=\"center\", va=\"center\", bbox=dict(facecolor=\"white\", edgecolor=\"black\"))\n",
    "    ax2.text(*pos2, \"Choose a specific customer satisfaction rating (e.g., 10)\",  fontsize=10, ha=\"center\", va=\"center\", bbox=dict(facecolor=\"white\", edgecolor=\"black\"))\n",
    "    ax2.text(*pos3, \"Retrieve all job IDs with that rating\", ha=\"center\", va=\"center\",  fontsize=10, bbox=dict(facecolor=\"white\", edgecolor=\"black\"))\n",
    "    ax2.text(*pos4, \"Extract the employees who were involved in each of the job IDs\",  fontsize=10, ha=\"center\", va=\"center\", bbox=dict(facecolor=\"white\", edgecolor=\"black\"))\n",
    "    ax2.text(*pos5, \"For each employee, calculate the mean customer satisfaction rating\\nacross all their worked job IDs\",  fontsize=10, ha=\"center\", va=\"center\", bbox=dict(facecolor=\"white\", edgecolor=\"black\"))\n",
    "    ax2.text(*pos6, \"Use the number of job IDs worked by each employee\\nas their weight in the following calculation\",  fontsize=10, ha=\"center\", va=\"center\", bbox=dict(facecolor=\"white\", edgecolor=\"black\"))\n",
    "    ax2.text(*pos7, \"Calculate the weighted average of all the\\ninvolved employees' satisfaction ratings (for each job ID)\",  fontsize=10, ha=\"center\", va=\"center\", bbox=dict(facecolor=\"white\", edgecolor=\"black\"))\n",
    "    ax2.text(*pos8, \"For all job IDs belonging to the same customer satisfaction rating,\\nwe have calculated the average satisfaction data\", fontsize=10, ha=\"center\", va=\"center\", bbox=dict(facecolor=\"white\", edgecolor=\"black\"))\n",
    "    ax2.text(*pos9, \"Plot a violin plot of the calculated satisfaction data\\nto see their frequency and distribution\",  fontsize=10, ha=\"center\", va=\"center\", bbox=dict(facecolor=\"white\", edgecolor=\"black\"))\n",
    "    ax2.text(*pos10, \"Check the mean of the distribution. For example, if the mean is near 7,\\nit's likely that the job pertains to a customer satisfaction rating of 10\",  fontsize=10, ha=\"center\", va=\"center\", bbox=dict(facecolor=\"white\", edgecolor=\"black\"))\n",
    "    #------------------------------------------------------------------------\n",
    "    # Set the limits of the axis\n",
    "    ax2.set_xlim(0, 1); ax2.set_ylim(0, 1)\n",
    "    \n",
    "    # Hide the tick marks and labels\n",
    "    ax2.tick_params(axis=\"both\", which=\"both\", length=0, labelsize=0)\n",
    "    #------------------------------------------------------------------------\n",
    "    ax2.axis('off')\n",
    "    ax1.spines[['left', 'right', 'top']].set_visible(False)\n",
    "    fig.suptitle(f'''Jobs Estimated Mean Satisfaction Scores Distributions Belonging to Different Customer Satisfaction Rates (Selected Job Type: {j_legend})''', fontsize=12)\n",
    "    plt.tight_layout()\n",
    "    \n",
    "    # plt.savefig('1_violin.png', facecolor='w', dpi=1000)\n",
    "    plt.show()\n",
    "    "
   ]
  },
  {
   "cell_type": "markdown",
   "id": "4713484d",
   "metadata": {},
   "source": [
    "___"
   ]
  },
  {
   "cell_type": "markdown",
   "id": "b6a27d72",
   "metadata": {},
   "source": [
    "## Visualization2: Interactive, Exploratory, Derived Data"
   ]
  },
  {
   "cell_type": "code",
   "execution_count": 5,
   "id": "0de4ec1c",
   "metadata": {},
   "outputs": [
    {
     "data": {
      "application/vnd.jupyter.widget-view+json": {
       "model_id": "b933f42671574fafa57fd62a9b8087e5",
       "version_major": 2,
       "version_minor": 0
      },
      "text/plain": [
       "interactive(children=(Text(value='e_5bfce2', description='Employee ID:', layout=Layout(width='35%'), placehold…"
      ]
     },
     "metadata": {},
     "output_type": "display_data"
    }
   ],
   "source": [
    "@interact(e_id = widgets.Text(value=\"e_5bfce2\", description='Employee ID:',placeholder='Enter Employee ID (e.g., e_5bfce2)',\\\n",
    "                              layout=widgets.Layout(width='35%')))\n",
    "def employee(e_id):\n",
    "    \n",
    "    e_id = e_id.lower()\n",
    "    unique_ids = df_employ['employee_id'].str.lower().unique()\n",
    "    if not e_id.lower() in unique_ids:\n",
    "        return \"No such employee ID was found!\"\n",
    "    #------------------------------------------------------------------------    \n",
    "    # e_id = str(e_id)\n",
    "    df_land_e = df_land.copy()\n",
    "    df_e = df_calend.loc[:, [\"date\", e_id]]\n",
    "    \n",
    "    df_e['job_type'] = df_e[e_id] # a column with job ids of an employee\n",
    "    df_e['satisfaction'] = df_e[e_id]\n",
    "    \n",
    "    df_e['job_type'] = df_e['job_type'].replace(df_land_e.set_index('job_id')['job_type'])\n",
    "    df_e['satisfaction'] = df_e['satisfaction'].replace(df_land_e.set_index('job_id')['customer_satisfaction'])\n",
    "    \n",
    "    # job_types = df_e[\"job_type\"].unique().tolist()\n",
    "    #-------------------------------------------------------------------------------------------------\n",
    "    df_grouped = df_e.groupby('job_type').agg({'satisfaction': 'mean', 'date': 'count'}).\\\n",
    "                sort_values(by=\"satisfaction\").reset_index().round({'satisfaction': 0})\n",
    "    df_grouped[\"fancy_job_type_names\"] = df_grouped[\"job_type\"].str.replace('_', ' ').str.title()\n",
    "    job_types = df_grouped[\"job_type\"].unique().tolist()\n",
    "    fancy_job_type_names = df_grouped[\"fancy_job_type_names\"].unique().tolist()\n",
    "    # figsize=(7, 5), dpi=200\n",
    "    fig, (ax1, ax2) = plt.subplots(1, 2, figsize=(12,6), sharey=True, dpi=300)\n",
    "    #------------------------------------------------------------------------------------------------- ax1\n",
    "    df_grouped.plot(kind='barh', x=\"fancy_job_type_names\", y=\"satisfaction\", ax=ax1, color='red', legend=False)\n",
    "    ax1.set_title(r'${\\bf Mean~Satisfaction}$'+'\\n(For Jobs Contributed by Selected Employee)', pad=10, fontsize=9)\n",
    "    ax1.set_xlabel('Mean Satisfaction (rounded)', labelpad=5)\n",
    "    ax1.set(xlim=(0,10))\n",
    "    ax1.set_yticklabels(fancy_job_type_names, ha='center', fontsize=9) # center align\n",
    "    \n",
    "    # ax1.yaxis.set_label_position(\"right\")\n",
    "    ax1.yaxis.tick_right()\n",
    "    ax1.set_ylabel(None)\n",
    "    ax1.tick_params(axis=\"y\", which=\"both\", length=0, pad=60) # hide ticks # pad\n",
    "    ax1.invert_xaxis()\n",
    "    #------------------------------------------------------------------------------------------------- ax2\n",
    "    df_grouped.plot(kind='barh', x=\"fancy_job_type_names\", y=\"date\", ax=ax2, color='blue', legend=False)\n",
    "    ax2.set_title(r'${\\bf Dates~Count}$'+'\\n(Worked by Selected Employee)', pad=10, fontsize=9)\n",
    "    ax2.set_xlabel('Dates Count', labelpad=5)\n",
    "    ax2.set(xlim=(0,df_grouped.date.max()//5 * 5))\n",
    "    ax2.tick_params(axis=\"y\", which=\"both\", length=0)\n",
    "    #-----------------------------------------------------------------------------------------------------\n",
    "    # import matplotlib.ticker as ticker\n",
    "    ax1.xaxis.set_minor_locator(ticker.MultipleLocator(1))\n",
    "    ax1.grid(True, axis='x', which='both', linestyle='--', color='gray', alpha=0.7, linewidth=0.5, zorder=0)\n",
    "    ax2.grid(True, axis='x', which='both', linestyle='--', color='gray', alpha=0.7, linewidth=0.5, zorder=0)\n",
    "    #------------------------------------------------------------------------\n",
    "    plt.subplots_adjust(wspace=0.45)\n",
    "    \n",
    "    fig.text(0.51, 0.88, 'Job Type', ha='center', fontsize=9, color='black',\\\n",
    "             bbox=dict(facecolor='white', alpha=0.15, boxstyle='round'))\n",
    "    \n",
    "    fig.text(0.57, 0.95, 'Dates Count', fontsize=9, ha='center', va='center', color='black',\\\n",
    "             bbox=dict(facecolor='blue', alpha=0.15, boxstyle='rarrow'))\n",
    "    \n",
    "    fig.text(0.45, 0.95, 'Satisfaction', fontsize=9, ha='center', va='center', color='black',\\\n",
    "             bbox=dict(facecolor='red', alpha=0.15, boxstyle='larrow'))\n",
    "    \n",
    "    # plt.savefig('2_employee.png', facecolor='w', dpi=1000)\n",
    "    plt.show()\n",
    "    # e_1ce84 e_Ice84 e_5bfce2 e_87406d\n",
    "    "
   ]
  }
 ],
 "metadata": {
  "kernelspec": {
   "display_name": "base",
   "language": "python",
   "name": "python3"
  },
  "language_info": {
   "codemirror_mode": {
    "name": "ipython",
    "version": 3
   },
   "file_extension": ".py",
   "mimetype": "text/x-python",
   "name": "python",
   "nbconvert_exporter": "python",
   "pygments_lexer": "ipython3",
   "version": "3.9.12"
  }
 },
 "nbformat": 4,
 "nbformat_minor": 5
}
